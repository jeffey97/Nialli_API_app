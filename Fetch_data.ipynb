{
 "cells": [
  {
   "cell_type": "code",
   "execution_count": 4,
   "metadata": {},
   "outputs": [
    {
     "name": "stderr",
     "output_type": "stream",
     "text": [
      "/var/folders/nb/5hgxnz3n2ls2gvdxrtqnclp80000gn/T/ipykernel_2554/4252040395.py:33: DeprecationWarning: \n",
      "        on_event is deprecated, use lifespan event handlers instead.\n",
      "\n",
      "        Read more about it in the\n",
      "        [FastAPI docs for Lifespan Events](https://fastapi.tiangolo.com/advanced/events/).\n",
      "        \n",
      "  @app.on_event(\"shutdown\")\n"
     ]
    }
   ],
   "source": [
    "from fastapi import FastAPI, HTTPException\n",
    "import requests\n",
    "from apscheduler.schedulers.background import BackgroundScheduler\n",
    "\n",
    "app = FastAPI()\n",
    "\n",
    "\n",
    "# Example Nialli API configuration\n",
    "NIALLI_API_URL = \"https://api.nialli.com/data\"\n",
    "NIALLI_API_KEY = \"your_api_key_here\"\n",
    "\n",
    "data_store = []  # Temporary store for fetched data\n",
    "\n",
    "def fetch_data():\n",
    "    headers = {\"Authorization\": f\"Bearer {NIALLI_API_KEY}\"}\n",
    "    try:\n",
    "        response = requests.get(NIALLI_API_URL, headers=headers)\n",
    "        response.raise_for_status()\n",
    "        data = response.json()\n",
    "        data_store.append(data)  # Replace with database insertion in future\n",
    "    except requests.RequestException as e:\n",
    "        print(f\"Failed to fetch data: {e}\")\n",
    "\n",
    "# Schedule the fetch_data function\n",
    "scheduler = BackgroundScheduler()\n",
    "scheduler.add_job(fetch_data, \"interval\", minutes=15)  # Adjust interval as needed\n",
    "scheduler.start()\n",
    "\n",
    "@app.get(\"/status\")\n",
    "def get_status():\n",
    "    return {\"status\": \"running\", \"data_points\": len(data_store)}\n",
    "\n",
    "@app.on_event(\"shutdown\")\n",
    "def shutdown():\n",
    "    scheduler.shutdown()\n"
   ]
  }
 ],
 "metadata": {
  "kernelspec": {
   "display_name": "base",
   "language": "python",
   "name": "python3"
  },
  "language_info": {
   "codemirror_mode": {
    "name": "ipython",
    "version": 3
   },
   "file_extension": ".py",
   "mimetype": "text/x-python",
   "name": "python",
   "nbconvert_exporter": "python",
   "pygments_lexer": "ipython3",
   "version": "3.12.7"
  }
 },
 "nbformat": 4,
 "nbformat_minor": 2
}
